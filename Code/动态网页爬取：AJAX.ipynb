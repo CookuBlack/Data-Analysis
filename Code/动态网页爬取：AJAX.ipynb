{
 "cells": [
  {
   "cell_type": "markdown",
   "id": "075e5c40",
   "metadata": {},
   "source": [
    "# 动态网页爬取：AJAX"
   ]
  },
  {
   "cell_type": "markdown",
   "id": "6c45b35a",
   "metadata": {},
   "source": [
    "## 要求\n",
    "\n",
    "爬取 https://www.ptpress.com.cn/ 下的新书推荐部分的**成功/励志**栏目书籍，具体内容包括：书名、价格和作者。"
   ]
  },
  {
   "cell_type": "markdown",
   "id": "7908fb78",
   "metadata": {},
   "source": [
    "### 1. 导入基本的库"
   ]
  },
  {
   "cell_type": "code",
   "execution_count": 1,
   "id": "e401bb0a",
   "metadata": {},
   "outputs": [],
   "source": [
    "import requests\n",
    "import json"
   ]
  },
  {
   "cell_type": "markdown",
   "id": "bc27de9f",
   "metadata": {},
   "source": [
    "### 2. 构造前置请求"
   ]
  },
  {
   "cell_type": "code",
   "execution_count": 2,
   "id": "f67a371c",
   "metadata": {},
   "outputs": [],
   "source": [
    "BookId_URL = \"https://www.ptpress.com.cn/recommendBook/getRecommendBookListForPortal?bookTagId=e03b1ec7-466e-484c-865c-6738989e306a\"\n",
    "detail_URL = \"https://www.ptpress.com.cn/bookinfo/getBookDetailsById\"\n",
    "headers = {'User-Agent':'Mozilla/5.0 (Windows NT 10.0; Win64; x64) AppleWebKit/537.36 (KHTML, like Gecko) Chrome/95.0.4638.69 Safari/537.36 Edg/95.0.1020.44'}"
   ]
  },
  {
   "cell_type": "markdown",
   "id": "5085c21c",
   "metadata": {},
   "source": [
    "### 3. 对BookId URL 发送请求"
   ]
  },
  {
   "cell_type": "code",
   "execution_count": 4,
   "id": "13610360",
   "metadata": {},
   "outputs": [
    {
     "name": "stdout",
     "output_type": "stream",
     "text": [
      "SUCCESS\n"
     ]
    }
   ],
   "source": [
    "book_id_package = requests.get(url=BookId_URL, headers=headers, timeout=3)\n",
    "if book_id_package.status_code == requests.codes.ok:\n",
    "    print(\"SUCCESS\")\n",
    "else:\n",
    "    print(\"FAIL\")"
   ]
  },
  {
   "cell_type": "markdown",
   "id": "b2eeb65a",
   "metadata": {},
   "source": [
    "### 4. 得到所有的 bookId"
   ]
  },
  {
   "cell_type": "code",
   "execution_count": 6,
   "id": "aaf0a784",
   "metadata": {},
   "outputs": [
    {
     "data": {
      "text/plain": [
       "['c4b12d98-f6b6-4038-b0cf-24c6ca8edbf4',\n",
       " '2d9b2c02-b493-4fa1-9a12-2667adb8a4c9',\n",
       " '5aab5283-0dda-47c4-9f6c-6da1e788f2aa',\n",
       " 'dd3b8d3c-e1e3-4c8c-aab1-78207e745674',\n",
       " '490a68c6-d92b-45cf-86a2-ccd3aa65a3b3',\n",
       " 'd1442930-e86f-456f-8c71-281f991fe70a',\n",
       " '74fa5f56-47d1-4af4-a140-795da52a5718',\n",
       " '7eee68e2-b318-4fa6-ac80-8d1c95e5694f',\n",
       " 'abde92cc-d7d1-4dbf-a9d6-9e975519ded5',\n",
       " 'f1925264-de0c-490c-b158-e43ecb2176fe']"
      ]
     },
     "execution_count": 6,
     "metadata": {},
     "output_type": "execute_result"
    }
   ],
   "source": [
    "BookJson = json.loads(book_id_package.content)\n",
    "BookData = BookJson[\"data\"]\n",
    "bookId = []\n",
    "# 通过遍历得到所有的ID\n",
    "for book in BookData:\n",
    "    bookId.append(book['bookId'])\n",
    "bookId"
   ]
  },
  {
   "cell_type": "markdown",
   "id": "b5b17927",
   "metadata": {},
   "source": [
    "### 5. 构造POST请求函数 与 JSON解析函数"
   ]
  },
  {
   "cell_type": "code",
   "execution_count": 7,
   "id": "63c2ff7a",
   "metadata": {},
   "outputs": [],
   "source": [
    "def req_post(url, data):\n",
    "    data = {\n",
    "        'bookId': data\n",
    "    }\n",
    "    response = requests.post(url, headers=headers, data=data, timeout=3)\n",
    "    if response.status_code == requests.codes.ok:\n",
    "        print(\"SUCCESS\")\n",
    "        return response\n",
    "    else:\n",
    "        print(\"FAIL\")\n",
    "        return None\n",
    "    \n",
    "def parse(response):\n",
    "    json_parse = json.loads(response.content)['data']\n",
    "    # 得到书名、价格和作者\n",
    "    book_name = json_parse['bookName']\n",
    "    author = json_parse['author']\n",
    "    price = json_parse['discountPrice']\n",
    "    return book_name, author, price"
   ]
  },
  {
   "cell_type": "markdown",
   "id": "a0fcc47b",
   "metadata": {},
   "source": [
    "### 6. 迭代所有的bookId爬取所有图书数据"
   ]
  },
  {
   "cell_type": "code",
   "execution_count": 8,
   "id": "1c84da27",
   "metadata": {},
   "outputs": [
    {
     "name": "stdout",
     "output_type": "stream",
     "text": [
      "SUCCESS\n",
      "SUCCESS\n",
      "SUCCESS\n",
      "SUCCESS\n",
      "SUCCESS\n",
      "SUCCESS\n",
      "SUCCESS\n",
      "SUCCESS\n",
      "SUCCESS\n",
      "SUCCESS\n"
     ]
    },
    {
     "data": {
      "text/plain": [
       "['当钻牛角尖遇到四象限：通透青年的茫然破局指南',\n",
       " '烧掉你的船：将焦虑转化为积极行动的9个策略',\n",
       " '批判性思维入门：30天学会独立思考',\n",
       " '认知觉醒：开启自我改变的原动力（百万册精装纪念版）',\n",
       " '人生歪理 歪得很有道理',\n",
       " '清晰思考：将平凡时刻转化为非凡成果',\n",
       " '前方高能',\n",
       " '哈佛高效学习法',\n",
       " '图解一切问题：培养图形思维，掌握图形工具',\n",
       " '百名院士的入党心声']"
      ]
     },
     "execution_count": 8,
     "metadata": {},
     "output_type": "execute_result"
    }
   ],
   "source": [
    "book_name_ls = []\n",
    "author_ls = []\n",
    "price_ls = []\n",
    "for b_id in bookId:\n",
    "    # 请求\n",
    "    response = req_post(detail_URL, b_id)\n",
    "    # 解析\n",
    "    book_name, author, price = parse(response)\n",
    "    book_name_ls.append(book_name)\n",
    "    author_ls.append(author)\n",
    "    price_ls.append(price)\n",
    "    \n",
    "book_name_ls"
   ]
  },
  {
   "cell_type": "markdown",
   "id": "79cd5b0f",
   "metadata": {},
   "source": [
    "### 7. 存储为CSV文件"
   ]
  },
  {
   "cell_type": "code",
   "execution_count": 9,
   "id": "4f140318",
   "metadata": {},
   "outputs": [],
   "source": [
    "import pandas as pd\n",
    "\n",
    "data = {\n",
    "    'bookName': book_name_ls,\n",
    "    \"author\": author_ls,\n",
    "    \"price\": price_ls\n",
    "}\n",
    "\n",
    "df = pd.DataFrame(data)\n",
    "df.to_csv(\"励志-励志.csv\", index=True)"
   ]
  },
  {
   "cell_type": "code",
   "execution_count": null,
   "id": "a00dcc8c",
   "metadata": {},
   "outputs": [],
   "source": []
  }
 ],
 "metadata": {
  "kernelspec": {
   "display_name": "Python 3 (ipykernel)",
   "language": "python",
   "name": "python3"
  },
  "language_info": {
   "codemirror_mode": {
    "name": "ipython",
    "version": 3
   },
   "file_extension": ".py",
   "mimetype": "text/x-python",
   "name": "python",
   "nbconvert_exporter": "python",
   "pygments_lexer": "ipython3",
   "version": "3.11.5"
  }
 },
 "nbformat": 4,
 "nbformat_minor": 5
}
